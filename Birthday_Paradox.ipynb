{
 "cells": [
  {
   "cell_type": "markdown",
   "metadata": {},
   "source": [
    "### Title: The Birthday Paradox Puzzle\n",
    "\n",
    "#### Puzzle: In a room of 23 people, the probability of two people sharing the same birthday is approximately 50%. It seems counter-intuitive at first, but by the use of simulations, we can witness the puzzle in action. \n",
    "\n",
    "##### Name: Kareena Satia"
   ]
  },
  {
   "cell_type": "markdown",
   "metadata": {},
   "source": [
    "### Importing packages "
   ]
  },
  {
   "cell_type": "code",
   "execution_count": 1,
   "metadata": {},
   "outputs": [],
   "source": [
    "import pandas as pd\n",
    "import numpy as np\n",
    "from collections import Counter\n",
    "import matplotlib.pyplot as plt"
   ]
  },
  {
   "cell_type": "markdown",
   "metadata": {},
   "source": [
    "### Steps: \n",
    "\n",
    "1. Create dataframes of i rows (representing people) and 30 columns (representing different rooms) in the range of 1-365 (representing birthdays)\n",
    "2. Adding the columns to a list \n",
    "3. Finding if there are any common numbers (shared birthdays) within a column (same room) \n",
    "4. If yes, then adding them and inserting them in a list "
   ]
  },
  {
   "cell_type": "code",
   "execution_count": 2,
   "metadata": {},
   "outputs": [
    {
     "name": "stdout",
     "output_type": "stream",
     "text": [
      "10\n",
      "15\n",
      "20\n",
      "25\n",
      "30\n",
      "35\n",
      "40\n",
      "45\n",
      "50\n",
      "55\n",
      "60\n",
      "65\n",
      "70\n",
      "75\n",
      "80\n",
      "85\n",
      "90\n",
      "95\n"
     ]
    }
   ],
   "source": [
    "inputs = []\n",
    "# Creating a dataframe of different sized observations of range 1-365 with 30 columns (samples), changing the column names and \n",
    "# assigning them to an index\n",
    "for i in np.arange(10,100,5): \n",
    "    globals()[\"common_\" + str(i)] = 0 #counts number of people with same birthday\n",
    "    \n",
    "    # Creating a datframe with has observations (of birth date) for i persons (rows) in 30 rooms each (columns)\n",
    "    globals()[\"df_\"+str(i)] = pd.DataFrame(np.random.randint(1,365, size=(i,30)))\n",
    "    globals()[\"df_\"+str(i)] = globals()[\"df_\"+str(i)].add_prefix('sample_') #changing column names by adding a prefix\n",
    "    cols = globals()[\"df_\"+str(i)].columns #assigning an index to column names\n",
    "    a_dictionary = {} #creating a dictionary \n",
    "    # Looping through each column and adding their elements to a list  \n",
    "    for ele in cols: \n",
    "        a_dictionary[\"l%sof%s\" %(ele, i)] = globals()[\"df_\"+str(i)][ele].tolist() #Adding observations to a list \n",
    "        locals().update(a_dictionary)\n",
    "    # Checking if there are any common numbers in any column within itself and if so, then updating the common variable by 1. \n",
    "    for d in range(0,29):\n",
    "        m = str(\"of\")\n",
    "        # Using the counter function to count the occurrences of values in each column and assigning it a variable\n",
    "        globals()[\"counter_\"+ str(d) + str(m) + str(i)] = Counter(globals()[\"lsample_\" + str(d) + str(m) + str(i)])\n",
    "        # Considering only those values which have a count of more than 1 and assigning it to a variable \n",
    "        globals()[\"count_\"+ str(d) + str(m) + str(i)] = [el for el in globals()[\"counter_\"+ str(d) + str(m) + str(i)].items() if el[1] > 1]\n",
    "        # If length of the variable count is more than zero, then updating the common variable by 1. \n",
    "        if len(globals()[\"count_\"+ str(d) + str(m) + str(i)]) > 0: # if length is zero, then there are no common values in a column\n",
    "            globals()[\"common_\" + str(i)] += 1\n",
    "    inputs.append(globals()[\"common_\" + str(i)]) #Adding the common variable to a list \n",
    "    print(i)\n",
    "             \n"
   ]
  },
  {
   "cell_type": "markdown",
   "metadata": {},
   "source": [
    "### Calculating the probability by taking the number of samples which had two same numbers and dividing it by 30 \n"
   ]
  },
  {
   "cell_type": "code",
   "execution_count": 3,
   "metadata": {},
   "outputs": [
    {
     "name": "stdout",
     "output_type": "stream",
     "text": [
      "4\n",
      "6\n",
      "14\n",
      "18\n",
      "20\n",
      "24\n",
      "25\n",
      "27\n",
      "28\n",
      "28\n",
      "29\n",
      "29\n",
      "29\n",
      "29\n",
      "29\n",
      "29\n",
      "29\n",
      "29\n"
     ]
    }
   ],
   "source": [
    "x = 0 \n",
    "prob = []  # creating an empty list \n",
    "\n",
    "# Looping through the list of the number of samples which have a common value within them \n",
    "for inp in inputs:\n",
    "    print(inp)\n",
    "    globals()[\"prob_\" + str(x)] = inp/30 # dividing the number of samples with common value by the total samples \n",
    "    prob.append(globals()[\"prob_\" + str(x)]) # adding them to a list \n",
    "    x += 1\n",
    "    \n"
   ]
  },
  {
   "cell_type": "markdown",
   "metadata": {},
   "source": [
    "### Creating a dictionary to assign the number of people in the room (key) to the probability (values)\n"
   ]
  },
  {
   "cell_type": "code",
   "execution_count": 4,
   "metadata": {},
   "outputs": [
    {
     "name": "stdout",
     "output_type": "stream",
     "text": [
      "{10: 0.13333333333333333, 15: 0.2, 20: 0.4666666666666667, 25: 0.6, 30: 0.6666666666666666, 35: 0.8, 40: 0.8333333333333334, 45: 0.9, 50: 0.9333333333333333, 55: 0.9333333333333333, 60: 0.9666666666666667, 65: 0.9666666666666667, 70: 0.9666666666666667, 75: 0.9666666666666667, 80: 0.9666666666666667, 85: 0.9666666666666667, 90: 0.9666666666666667, 95: 0.9666666666666667}\n"
     ]
    }
   ],
   "source": [
    "dicts = {}\n",
    "keys = np.arange(10,100,5)\n",
    "m = 0 \n",
    "for i in keys: \n",
    "    dicts[i] = prob[m] \n",
    "    m += 1\n",
    "\n",
    "print(dicts)"
   ]
  },
  {
   "cell_type": "markdown",
   "metadata": {},
   "source": [
    "### Creating variables from keys and values in the dictionary \n"
   ]
  },
  {
   "cell_type": "code",
   "execution_count": 5,
   "metadata": {},
   "outputs": [],
   "source": [
    "keys_g = dicts.keys()\n",
    "values_g = dicts.values()"
   ]
  },
  {
   "cell_type": "markdown",
   "metadata": {},
   "source": [
    "### Plotting the probability of two people sharing the same birthday against the number of people in the room. \n"
   ]
  },
  {
   "cell_type": "code",
   "execution_count": 6,
   "metadata": {},
   "outputs": [
    {
     "data": {
      "text/plain": [
       "Text(0, 0.5, 'Probability that two people share the same birthday')"
      ]
     },
     "execution_count": 6,
     "metadata": {},
     "output_type": "execute_result"
    },
    {
     "data": {
      "image/png": "[encoded data removed]",
      "text/plain": [
       "<Figure size 1440x720 with 1 Axes>"
      ]
     },
     "metadata": {
      "needs_background": "light"
     },
     "output_type": "display_data"
    }
   ],
   "source": [
    "plt.figure(figsize=(20,10))\n",
    "plt.plot(keys_g,values_g)\n",
    "plt.xlabel('No. of people in the same room')\n",
    "plt.ylabel('Probability that two people share the same birthday')\n"
   ]
  },
  {
   "cell_type": "code",
   "execution_count": null,
   "metadata": {},
   "outputs": [],
   "source": []
  }
 ],
 "metadata": {
  "kernelspec": {
   "display_name": "Python 3",
   "language": "python",
   "name": "python3"
  },
  "language_info": {
   "codemirror_mode": {
    "name": "ipython",
    "version": 3
   },
   "file_extension": ".py",
   "mimetype": "text/x-python",
   "name": "python",
   "nbconvert_exporter": "python",
   "pygments_lexer": "ipython3",
   "version": "3.8.1"
  }
 },
 "nbformat": 4,
 "nbformat_minor": 2
}
